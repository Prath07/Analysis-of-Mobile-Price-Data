{
  "cells": [
    {
      "cell_type": "markdown",
      "metadata": {
        "id": "n0ZKqZaTWkpg"
      },
      "source": [
        "# Portfolio Part 3 - Analysis of Mobile Price Data (2024 S1)"
      ]
    },
    {
      "cell_type": "markdown",
      "metadata": {
        "id": "O9R7rVmlXaMX"
      },
      "source": [
        "In this Portfolio task, you will work on a new dataset named 'Mobile Price Data', it contains numerous details about mobile phone hardware, specifications, and prices. Your main task is to train classification models to predict **mobile phone prices** ('price range' in the dataset)and evaluate the strengths and weaknesses of these models."
      ]
    },
    {
      "cell_type": "markdown",
      "metadata": {
        "id": "zHC8wWkVZVBG"
      },
      "source": [
        "Here's the explanation of each column:"
      ]
    },
    {
      "cell_type": "markdown",
      "metadata": {
        "id": "_O1tyfN3ZvE-"
      },
      "source": [
        "|Column|Meaning|\n",
        "|:-----:|:-----:|\n",
        "|battery power|Total energy a battery can store in one time measured in mAh|\n",
        "|blue|Has bluetooth or not|\n",
        "|clock speed|speed at which microprocessor executes instructions|\n",
        "|dual sim|Has dual sim support or not|\n",
        "|fc|Front Camera mega pixels|\n",
        "|four g|Has 4G or not|\n",
        "|int memory|Internal Memory in Gigabytes|\n",
        "|m dep|Mobile Depth in cm|\n",
        "|mobile wt|Weight of mobile phone|\n",
        "|n cores|Number of cores of processor|\n",
        "|pc|Primary Camera mega pixels|\n",
        "|px height|Pixel Resolution Height|\n",
        "|px width|Pixel Resolution Width|\n",
        "|ram|Random Access Memory in Mega Bytes|\n",
        "|sc h|Screen Height of mobile in cm|\n",
        "|sc w|Screen Width of mobile in cm|\n",
        "|talk time|longest time that a single battery charge will last when you are|\n",
        "|three g|Has 3G or not|\n",
        "|touch screen|Has touch screen or not|\n",
        "|wifi|Has wifi or not|\n",
        "|price range|This is the target variable with value of 0(low cost), 1(medium cost), 2(high cost) and 3(very high cost)|"
      ]
    },
    {
      "cell_type": "markdown",
      "metadata": {
        "id": "fmFqaGooclqa"
      },
      "source": [
        "Blue, dual sim, four g, three g, touch screen, and wifi are all binary attributes, 0 for not and 1 for yes."
      ]
    },
    {
      "cell_type": "markdown",
      "metadata": {
        "id": "o0VDQbC-es_8"
      },
      "source": [
        "Your high level goal in this notebook is to build and evaluate predictive models for 'price range' from other available features. More specifically, you need to **complete the following major steps**:\n",
        "\n",
        "1. ***Explore the data*** and ***clean the data if necessary***. For example, remove abnormal instanaces and replace missing values.\n",
        "\n",
        "2. ***Study the correlation*** between 'price range' with other features. And ***select the variables*** that you think are helpful for predicting the price range. We do not limit the number of variables.\n",
        "\n",
        "3. ***Split the dataset*** (Trainging set : Test set = 8 : 2)\n",
        "\n",
        "4. ***Train a logistic regression model*** to predict 'price range' based on the selected features (from the second step). ***Calculate the accuracy*** of your model. (You are required to report the accuracy from both training set and test set.) ***Explain your model and evaluate its performance*** (Is the model performing well? If yes, what factors might be contributing to the good performance of your model? If not, how can improvements be made?).\n",
        "\n",
        "5. ***Train a KNN model*** to predict 'price range' based on the selected features (you can use the features selected from the second step and set K with an ad-hoc manner in this step. ***Calculate the accuracy*** of your model. (You are required to report the accuracy from both training set and test set.)\n",
        "\n",
        "6. ***Tune the hyper-parameter K*** in KNN (Hints: GridsearchCV), ***visualize the results***, and ***explain*** how K influences the prediction performance.\n",
        "\n",
        "  Hints for visualization: You can use line chart to visualize K and mean accuracy scores on test set."
      ]
    },
    {
      "cell_type": "markdown",
      "metadata": {
        "id": "RAcIxzIldzSZ"
      },
      "source": [
        "Note 1: In this assignment, we no longer provide specific guidance and templates for each sub task. You should learn how to properly comment your notebook by yourself to make your notebook file readable.\n",
        "\n",
        "Note 2: You will not being evaluated on the accuracy of the model but on the process that you use to generate it and your explanation."
      ]
    },
    {
      "cell_type": "code",
      "execution_count": 203,
      "metadata": {
        "id": "UpCBB45NV0p_"
      },
      "outputs": [
        {
          "name": "stdout",
          "output_type": "stream",
          "text": [
            "Step 1: Explore and Clean the Data\n",
            "Missing values: battery_power    0\n",
            "blue             0\n",
            "clock_speed      0\n",
            "dual_sim         0\n",
            "fc               0\n",
            "four_g           0\n",
            "int_memory       1\n",
            "m_dep            1\n",
            "mobile_wt        0\n",
            "n_cores          0\n",
            "pc               0\n",
            "px_height        0\n",
            "px_width         1\n",
            "ram              1\n",
            "sc_h             0\n",
            "sc_w             0\n",
            "talk_time        0\n",
            "three_g          1\n",
            "touch_screen     0\n",
            "wifi             0\n",
            "price_range      0\n",
            "dtype: int64\n",
            "Duplicate rows before removal: 0\n",
            "Duplicate rows after removal: 0\n"
          ]
        }
      ],
      "source": [
        "#Student Name: Prathamesh\n",
        "\n",
        "# Library for the following\n",
        "import pandas as pd\n",
        "import numpy as np\n",
        "from sklearn.impute import SimpleImputer\n",
        "from sklearn.model_selection import train_test_split, GridSearchCV\n",
        "from sklearn.pipeline import Pipeline\n",
        "from sklearn.linear_model import LogisticRegression\n",
        "from sklearn.neighbors import KNeighborsClassifier\n",
        "from sklearn.metrics import accuracy_score\n",
        "import matplotlib.pyplot as plt\n",
        "\n",
        "# Step 1: Explore and Clean the Data\n",
        "# Explore the data and clean the data if necessary. For example, remove abnormal instanaces and replace missing values.\n",
        "\n",
        "# Loading dataset\n",
        "data = pd.read_csv('Mobile_Price_Data.csv')\n",
        "\n",
        "# Checking for missing values + removing them\n",
        "missing_values = data.isnull().sum()\n",
        "data.dropna(inplace=True)\n",
        "\n",
        "# Checking for duplicate rows + remove them\n",
        "duplicates_before = data.duplicated().sum()\n",
        "data.drop_duplicates(inplace=True)\n",
        "\n",
        "# Checking for duplicate rows after removal\n",
        "duplicates_after = data.duplicated().sum()\n",
        "\n",
        "print(\"Step 1: Explore and Clean the Data\")\n",
        "print(\"Missing values:\", missing_values)\n",
        "print(\"Duplicate rows before removal:\", duplicates_before)\n",
        "print(\"Duplicate rows after removal:\", duplicates_after)"
      ]
    },
    {
      "cell_type": "code",
      "execution_count": 212,
      "metadata": {},
      "outputs": [
        {
          "name": "stdout",
          "output_type": "stream",
          "text": [
            "Step 2: Study the Correlation and Select Variables\n",
            "Selected features for predicting the price range.  ['ram', 'battery_power']\n"
          ]
        }
      ],
      "source": [
        "# Step 2: Study the Correlation and Select Variables\n",
        "# Study the correlation between 'price range' with other features. And select the variables that you think are helpful for predicting the price range.\n",
        "\n",
        "# Analysing correlation between 'price range' and other features\n",
        "data.corr()['price_range'].sort_values(ascending=False)\n",
        "price_corr = data.corr()['price_range'].sort_values(ascending=False)\n",
        "\n",
        "# Selecting variables for predicting the price range\n",
        "selected_features = price_corr[abs(price_corr) > 0.2].index.tolist()\n",
        "selected_features.remove('price_range') \n",
        "\n",
        "print(\"Step 2: Study the Correlation and Select Variables\")\n",
        "print(\"Selected features for predicting the price range. \", selected_features)\n"
      ]
    },
    {
      "cell_type": "code",
      "execution_count": 208,
      "metadata": {},
      "outputs": [
        {
          "name": "stdout",
          "output_type": "stream",
          "text": [
            "Step 3: Split the Dataset\n",
            "Shape of training set (X_train): (1596, 2)\n",
            "Shape of testing set (X_test): (399, 2)\n",
            "Shape of training set (y_train): (1596,)\n",
            "Shape of testing set (y_test): (399,)\n"
          ]
        }
      ],
      "source": [
        "# Step 3: Split the Dataset\n",
        "# Split the dataset (Trainging set : Test set = 8 : 2)\n",
        "\n",
        "# Spliting the dataset into features (X) and target variable (y)\n",
        "X = data[selected_features]\n",
        "y = data['price_range']\n",
        "\n",
        "# Spliting the dataset into training and testing sets (80% training and 20% testing)\n",
        "X_train, X_test, y_train, y_test = train_test_split(X, y, test_size=0.2, random_state=42)\n",
        "\n",
        "print(\"Step 3: Split the Dataset\")\n",
        "print(\"Shape of training set (X_train):\", X_train.shape)\n",
        "print(\"Shape of testing set (X_test):\", X_test.shape)\n",
        "print(\"Shape of training set (y_train):\", y_train.shape)\n",
        "print(\"Shape of testing set (y_test):\", y_test.shape)"
      ]
    },
    {
      "cell_type": "code",
      "execution_count": 213,
      "metadata": {},
      "outputs": [
        {
          "name": "stdout",
          "output_type": "stream",
          "text": [
            "Step 4: Train a Logistic Regression Model\n",
            "Accuracy on training set (Logistic Regression): 0.818295739348371\n",
            "Accuracy on testing set (Logistic Regression): 0.8421052631578947\n",
            "\n",
            "Explanation of Model:\n",
            "The logistical regression model is trained to predict the price range based on the RAM and battery power of the phone. These variables were chosen due to their correlation with price range\n",
            "being positive (RAM = 0.917131 | Battery = 0.2026520). It is important to note that all but 3 features were positive but we believe that RAM and Battery power were the most appropriate to\n",
            "use based on them having highest correlation value. \n",
            "\n",
            "Evaluation of Model:\n",
            "The model performs well with an accuracy over 84% on the testing set and 81% on the training set. The testing set having a higher accuracy rating suggests that the model generalises well to unseen data.\n",
            "This model can be improved by conducting a further detailed analyis of the features and their relationship with the price range.\n",
            "\n"
          ]
        }
      ],
      "source": [
        "# Step 4: Train a Logistic Regression Model\n",
        "# Train a logistic regression model to predict 'price range' based on the selected features (from the second step). Calculate the accuracy of your model. (You are required to report the accuracy from both training set and test set.) Explain your model and evaluate its performance (Is the model performing well? If yes, what factors might be contributing to the good performance of your model? If not, how can improvements be made?).\n",
        "\n",
        "# Defining pipeline with imputer + Logistic Regression model\n",
        "logistic_pipeline = Pipeline([\n",
        "    ('classifier', LogisticRegression(max_iter=1000, random_state=42))\n",
        "])\n",
        "\n",
        "# Training pipeline on the data\n",
        "logistic_pipeline.fit(X_train, y_train)\n",
        "\n",
        "# Predictions on training + testing sets for logistic regression\n",
        "train_predictions_logistic = logistic_pipeline.predict(X_train)\n",
        "test_predictions_logistic = logistic_pipeline.predict(X_test)\n",
        "\n",
        "# Calculating accuracy on training + testing sets for logistic regression\n",
        "train_accuracy_logistic = accuracy_score(y_train, train_predictions_logistic)\n",
        "test_accuracy_logistic = accuracy_score(y_test, test_predictions_logistic)\n",
        "\n",
        "print(\"Step 4: Train a Logistic Regression Model\")\n",
        "print(\"Accuracy on training set (Logistic Regression):\", train_accuracy_logistic)\n",
        "print(\"Accuracy on testing set (Logistic Regression):\", test_accuracy_logistic)\n",
        "print(\"\"\"\n",
        "Explanation of Model:\n",
        "The logistical regression model is trained to predict the price range based on the RAM and battery power of the phone. These variables were chosen due to their correlation with price range\n",
        "being positive (RAM = 0.917131 | Battery = 0.2026520). It is important to note that all but 3 features were positive but we believe that RAM and Battery power were the most appropriate to\n",
        "use based on them having highest correlation value. \n",
        "\n",
        "Evaluation of Model:\n",
        "The model performs well with an accuracy over 84% on the testing set and 81% on the training set. The testing set having a higher accuracy rating suggests that the model generalises well to unseen data.\n",
        "This model can be improved by conducting a further detailed analyis of the features and their relationship with the price range.\n",
        "\"\"\")\n"
      ]
    },
    {
      "cell_type": "code",
      "execution_count": 214,
      "metadata": {},
      "outputs": [
        {
          "name": "stdout",
          "output_type": "stream",
          "text": [
            "Step 5: Train a KNN Model\n",
            "Accuracy on training set (KNN): 0.8439849624060151\n",
            "Accuracy on testing set (KNN): 0.7894736842105263\n"
          ]
        }
      ],
      "source": [
        "# Step 5: Train a KNN Model\n",
        "# Train a KNN model to predict 'price range' based on the selected features (you can use the features selected from the second step and set K with an ad-hoc manner in this step. Calculate the accuracy of your model. (You are required to report the accuracy from both training set and test set.)\n",
        "\n",
        "# Defining a pipeline with imputer + KNN model\n",
        "knn_pipeline = Pipeline([\n",
        "    ('imputer', SimpleImputer(strategy='mean')),\n",
        "    ('classifier', KNeighborsClassifier(n_neighbors=5))\n",
        "])\n",
        "\n",
        "# Training the pipeline on the data\n",
        "knn_pipeline.fit(X_train, y_train)\n",
        "\n",
        "# Predictions on training + testing sets for KNN\n",
        "train_predictions_knn = knn_pipeline.predict(X_train)\n",
        "test_predictions_knn = knn_pipeline.predict(X_test)\n",
        "\n",
        "# Calculating the accuracy on training + testing sets for KNN\n",
        "train_accuracy_knn = accuracy_score(y_train, train_predictions_knn)\n",
        "test_accuracy_knn = accuracy_score(y_test, test_predictions_knn)\n",
        "\n",
        "print(\"Step 5: Train a KNN Model\")\n",
        "print(\"Accuracy on training set (KNN):\", train_accuracy_knn)\n",
        "print(\"Accuracy on testing set (KNN):\", test_accuracy_knn)\n"
      ]
    },
    {
      "cell_type": "code",
      "execution_count": 215,
      "metadata": {},
      "outputs": [
        {
          "data": {
            "image/png": "[encoded data removed]",
            "text/plain": [
              "<Figure size 1000x600 with 1 Axes>"
            ]
          },
          "metadata": {},
          "output_type": "display_data"
        },
        {
          "name": "stdout",
          "output_type": "stream",
          "text": [
            "Step 6: Tune the Hyper-parameter K in KNN and Visualize the Results\n",
            "Best value of K found by GridSearchCV: 19\n",
            "Accuracy on training set (Final KNN): 0.8320802005012531\n",
            "Accuracy on testing set (Final KNN): 0.8270676691729323\n",
            "\n",
            "The results indicate that the accuracy on btoh the training set and the testing set is highest when K is equal to 19. The influence that K has on prediction performance in KNN is crucial.\n",
            "A smaller value of K usually leads to more complex decision boundaries and can result in overfitting. A largeer value of K tends to smooth out the decision boundaries which can lead to underfitting. \n",
            "\n",
            "\n"
          ]
        }
      ],
      "source": [
        "# Step 6: Tune the Hyper-parameter K in KNN and Visualize the Results\n",
        "# Tune the hyper-parameter K in KNN (Hints: GridsearchCV),visualize the results and explain how K influences the prediction performance.\n",
        "\n",
        "from sklearn.model_selection import GridSearchCV\n",
        "\n",
        "# Defining a range of K values to search\n",
        "param_grid = {'n_neighbors': np.arange(1, 20)}\n",
        "\n",
        "# Initialising KNN model\n",
        "knn_model = KNeighborsClassifier()\n",
        "\n",
        "# GridSearchCV to find the best value of K\n",
        "grid_search = GridSearchCV(knn_model, param_grid, cv=5)\n",
        "grid_search.fit(X_train, y_train)\n",
        "\n",
        "# Best value of K\n",
        "best_k = grid_search.best_params_['n_neighbors']\n",
        "\n",
        "# Visualising the results\n",
        "plt.figure(figsize=(10, 6))\n",
        "plt.plot(param_grid['n_neighbors'], grid_search.cv_results_['mean_test_score'], marker='o', linestyle='-')\n",
        "plt.title('Grid Search Results')\n",
        "plt.xlabel('Number of Neighbors (K)')\n",
        "plt.ylabel('Mean Accuracy Score')\n",
        "plt.xticks(np.arange(1, 20, step=1))\n",
        "plt.axvline(x=best_k, color='red', label='Best K')\n",
        "plt.legend()\n",
        "plt.grid(True)\n",
        "plt.show()\n",
        "\n",
        "# Training final KNN model with the best value of K\n",
        "final_knn_model = KNeighborsClassifier(n_neighbors=best_k)\n",
        "final_knn_model.fit(X_train, y_train)\n",
        "\n",
        "# Predictions on training + testing sets for final KNN model\n",
        "train_predictions_final_knn = final_knn_model.predict(X_train)\n",
        "test_predictions_final_knn = final_knn_model.predict(X_test)\n",
        "\n",
        "# Calculatung accuracy on training + testing sets for the final KNN model\n",
        "train_accuracy_final_knn = accuracy_score(y_train, train_predictions_final_knn)\n",
        "test_accuracy_final_knn = accuracy_score(y_test, test_predictions_final_knn)\n",
        "\n",
        "# Printing accuracy of final KNN model\n",
        "print(\"Step 6: Tune the Hyper-parameter K in KNN and Visualize the Results\")\n",
        "print(\"Best value of K found by GridSearchCV:\", best_k)\n",
        "print(\"Accuracy on training set (Final KNN):\", train_accuracy_final_knn)\n",
        "print(\"Accuracy on testing set (Final KNN):\", test_accuracy_final_knn)\n",
        "print(\"\"\"\n",
        "The results indicate that the accuracy on btoh the training set and the testing set is highest when K is equal to 19. The influence that K has on prediction performance in KNN is crucial.\n",
        "A smaller value of K usually leads to more complex decision boundaries and can result in overfitting. A largeer value of K tends to smooth out the decision boundaries which can lead to underfitting. \n",
        "\"\"\")\n"
      ]
    }
  ],
  "metadata": {
    "colab": {
      "provenance": []
    },
    "kernelspec": {
      "display_name": "Python 3",
      "name": "python3"
    },
    "language_info": {
      "codemirror_mode": {
        "name": "ipython",
        "version": 3
      },
      "file_extension": ".py",
      "mimetype": "text/x-python",
      "name": "python",
      "nbconvert_exporter": "python",
      "pygments_lexer": "ipython3",
      "version": "3.11.3"
    }
  },
  "nbformat": 4,
  "nbformat_minor": 0
}
